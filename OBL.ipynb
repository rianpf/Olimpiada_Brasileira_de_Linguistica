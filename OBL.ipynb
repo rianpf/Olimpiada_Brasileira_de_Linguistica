{
  "nbformat": 4,
  "nbformat_minor": 0,
  "metadata": {
    "colab": {
      "name": "OBL.ipynb",
      "provenance": []
    },
    "kernelspec": {
      "name": "python3",
      "display_name": "Python 3"
    },
    "language_info": {
      "name": "python"
    }
  },
  "cells": [
    {
      "cell_type": "markdown",
      "source": [
        "# **Olimpíada Brasileira de Linguística  - 2022**\n",
        "\n",
        "Fala, linguistiquer, beleza? Se você entrou aqui, é porque está interessado em entender um pouco mais os procedimentos que a Linguística Computacional usa para executar as tarefas do case do Rolêzinho da Olimpíada Brasileira de Linguística :)\n",
        "\n",
        "É claro que, se você não tiver o conhecimento prévio de programação, talvez fique um pouco difícil entender o passo a passo, mas o principal é que você entenda os conceitos por trás! Se tiver alguma dúvida, não hesite em me escrever para perguntá-la.\n",
        "\n",
        "Dito isso, este notebook está dividido nas seguinte etapas:\n",
        "\n",
        "\n",
        "1.   Importação das bibliotecas;\n",
        "2.   Importação do corpus;\n",
        "3.   Pré-processamento de acordo com as instruções da OBL.\n",
        "\n",
        "\n",
        "\n"
      ],
      "metadata": {
        "id": "T5P3w1JruBde"
      }
    },
    {
      "cell_type": "markdown",
      "source": [
        "## 1. Importação das bibliotecas"
      ],
      "metadata": {
        "id": "E_oHNjsXwIod"
      }
    },
    {
      "cell_type": "markdown",
      "source": [
        "A primeira coisa que vamos fazer é importar as bibliotecas que nos auxiliarão a realizar nossas tarefas! Aqui, utilizaremos o [NLTK](https://www.nltk.org/), o [Spacy](https://spacy.io/) (também usaremos um módulo do Spacy, o Displacy, para expor as POS tags) e as [Regex](https://docs.python.org/3/library/re.html) :"
      ],
      "metadata": {
        "id": "jChdTHYY22eB"
      }
    },
    {
      "cell_type": "code",
      "source": [
        "import nltk \n",
        "from nltk.tokenize import word_tokenize\n",
        "nltk.download('stopwords')\n",
        "nltk.download('punkt')\n",
        "from nltk.stem import PorterStemmer, LancasterStemmer\n",
        "import spacy\n",
        "from spacy import displacy\n",
        "import re"
      ],
      "metadata": {
        "id": "fM56nabQwVhB",
        "colab": {
          "base_uri": "https://localhost:8080/"
        },
        "outputId": "95064a45-d0ce-40bc-d395-2912a91640fc"
      },
      "execution_count": 1,
      "outputs": [
        {
          "output_type": "stream",
          "name": "stdout",
          "text": [
            "[nltk_data] Downloading package stopwords to /root/nltk_data...\n",
            "[nltk_data]   Package stopwords is already up-to-date!\n",
            "[nltk_data] Downloading package punkt to /root/nltk_data...\n",
            "[nltk_data]   Package punkt is already up-to-date!\n"
          ]
        }
      ]
    },
    {
      "cell_type": "markdown",
      "source": [
        "Também temos que baixar o modelo de língua do português:"
      ],
      "metadata": {
        "id": "l8HsHBxl3TnD"
      }
    },
    {
      "cell_type": "code",
      "source": [
        "!python -m spacy download pt_core_news_sm"
      ],
      "metadata": {
        "colab": {
          "base_uri": "https://localhost:8080/"
        },
        "id": "6rQUdWBLJ-58",
        "outputId": "5fd8f71e-9fac-4478-aa73-b55c851dd350"
      },
      "execution_count": 2,
      "outputs": [
        {
          "output_type": "stream",
          "name": "stdout",
          "text": [
            "Collecting pt_core_news_sm==2.2.5\n",
            "  Downloading https://github.com/explosion/spacy-models/releases/download/pt_core_news_sm-2.2.5/pt_core_news_sm-2.2.5.tar.gz (21.2 MB)\n",
            "\u001b[K     |████████████████████████████████| 21.2 MB 2.2 MB/s \n",
            "\u001b[?25hRequirement already satisfied: spacy>=2.2.2 in /usr/local/lib/python3.7/dist-packages (from pt_core_news_sm==2.2.5) (2.2.4)\n",
            "Requirement already satisfied: thinc==7.4.0 in /usr/local/lib/python3.7/dist-packages (from spacy>=2.2.2->pt_core_news_sm==2.2.5) (7.4.0)\n",
            "Requirement already satisfied: catalogue<1.1.0,>=0.0.7 in /usr/local/lib/python3.7/dist-packages (from spacy>=2.2.2->pt_core_news_sm==2.2.5) (1.0.0)\n",
            "Requirement already satisfied: cymem<2.1.0,>=2.0.2 in /usr/local/lib/python3.7/dist-packages (from spacy>=2.2.2->pt_core_news_sm==2.2.5) (2.0.6)\n",
            "Requirement already satisfied: murmurhash<1.1.0,>=0.28.0 in /usr/local/lib/python3.7/dist-packages (from spacy>=2.2.2->pt_core_news_sm==2.2.5) (1.0.7)\n",
            "Requirement already satisfied: setuptools in /usr/local/lib/python3.7/dist-packages (from spacy>=2.2.2->pt_core_news_sm==2.2.5) (57.4.0)\n",
            "Requirement already satisfied: wasabi<1.1.0,>=0.4.0 in /usr/local/lib/python3.7/dist-packages (from spacy>=2.2.2->pt_core_news_sm==2.2.5) (0.9.1)\n",
            "Requirement already satisfied: numpy>=1.15.0 in /usr/local/lib/python3.7/dist-packages (from spacy>=2.2.2->pt_core_news_sm==2.2.5) (1.21.6)\n",
            "Requirement already satisfied: plac<1.2.0,>=0.9.6 in /usr/local/lib/python3.7/dist-packages (from spacy>=2.2.2->pt_core_news_sm==2.2.5) (1.1.3)\n",
            "Requirement already satisfied: requests<3.0.0,>=2.13.0 in /usr/local/lib/python3.7/dist-packages (from spacy>=2.2.2->pt_core_news_sm==2.2.5) (2.23.0)\n",
            "Requirement already satisfied: blis<0.5.0,>=0.4.0 in /usr/local/lib/python3.7/dist-packages (from spacy>=2.2.2->pt_core_news_sm==2.2.5) (0.4.1)\n",
            "Requirement already satisfied: preshed<3.1.0,>=3.0.2 in /usr/local/lib/python3.7/dist-packages (from spacy>=2.2.2->pt_core_news_sm==2.2.5) (3.0.6)\n",
            "Requirement already satisfied: srsly<1.1.0,>=1.0.2 in /usr/local/lib/python3.7/dist-packages (from spacy>=2.2.2->pt_core_news_sm==2.2.5) (1.0.5)\n",
            "Requirement already satisfied: tqdm<5.0.0,>=4.38.0 in /usr/local/lib/python3.7/dist-packages (from spacy>=2.2.2->pt_core_news_sm==2.2.5) (4.64.0)\n",
            "Requirement already satisfied: importlib-metadata>=0.20 in /usr/local/lib/python3.7/dist-packages (from catalogue<1.1.0,>=0.0.7->spacy>=2.2.2->pt_core_news_sm==2.2.5) (4.11.3)\n",
            "Requirement already satisfied: typing-extensions>=3.6.4 in /usr/local/lib/python3.7/dist-packages (from importlib-metadata>=0.20->catalogue<1.1.0,>=0.0.7->spacy>=2.2.2->pt_core_news_sm==2.2.5) (4.2.0)\n",
            "Requirement already satisfied: zipp>=0.5 in /usr/local/lib/python3.7/dist-packages (from importlib-metadata>=0.20->catalogue<1.1.0,>=0.0.7->spacy>=2.2.2->pt_core_news_sm==2.2.5) (3.8.0)\n",
            "Requirement already satisfied: certifi>=2017.4.17 in /usr/local/lib/python3.7/dist-packages (from requests<3.0.0,>=2.13.0->spacy>=2.2.2->pt_core_news_sm==2.2.5) (2021.10.8)\n",
            "Requirement already satisfied: chardet<4,>=3.0.2 in /usr/local/lib/python3.7/dist-packages (from requests<3.0.0,>=2.13.0->spacy>=2.2.2->pt_core_news_sm==2.2.5) (3.0.4)\n",
            "Requirement already satisfied: urllib3!=1.25.0,!=1.25.1,<1.26,>=1.21.1 in /usr/local/lib/python3.7/dist-packages (from requests<3.0.0,>=2.13.0->spacy>=2.2.2->pt_core_news_sm==2.2.5) (1.24.3)\n",
            "Requirement already satisfied: idna<3,>=2.5 in /usr/local/lib/python3.7/dist-packages (from requests<3.0.0,>=2.13.0->spacy>=2.2.2->pt_core_news_sm==2.2.5) (2.10)\n",
            "\u001b[38;5;2m✔ Download and installation successful\u001b[0m\n",
            "You can now load the model via spacy.load('pt_core_news_sm')\n"
          ]
        }
      ]
    },
    {
      "cell_type": "markdown",
      "source": [
        "## 2. Importação do corpus"
      ],
      "metadata": {
        "id": "-pkrm28gwe7X"
      }
    },
    {
      "cell_type": "markdown",
      "source": [
        "Agora, iremos definir nossos textos em variáveis:"
      ],
      "metadata": {
        "id": "UOTiEsN73mAZ"
      }
    },
    {
      "cell_type": "code",
      "source": [
        "texto1= \"Evidencia-se ao leitor que bilionários (ou trilionários), comumente, têm uma grande capacidade de utilizarem suas trajetórias profissionais para criar legados em diversos setores da economia, elevando, consequentemente, o padrão de vida da humanidade e propiciando oportunidades de enriquecimento lícito para inúmeros outros indivíduos que estão dispostos a também gerar valor para sociedade. Bilionários deveriam existir, e assim será!\"\n",
        "texto2= \"Enquanto bilhões vão à miséria, um punhado de famílias aumentam formidavelmente sua riqueza. Essa é a realidade do mundo imperialista. Segundo o Índice Bloomberg de Bilionários, o patrimônio das 500 pessoas mais ricas subiu 20% nas primeiras semanas de abril, época em que a crise imperialista se aprofunda. Isso demonstra que a riqueza dos bilionários do mundo tem apresentado aumento, mesmo durante a crise de superprodução imperialista, com números alarmantes como 17 milhões de americanos desempregados no período de três semanas.\"\n",
        "texto3= \"O coronavírus enxugou as economias de milhões de famílias, mas não as dos mais ricos. O ano terminou com lucros para a imensa maioria deles, já que apenas 3 das 20 pessoas mais ricas de planeta viram sua fortuna diminuir neste ano. No seu conjunto, esse grupo de bilionários chegou ao final de 2020 com um patrimônio conjunto que soma 1,77 trilhão de dólares (8,83 trilhões de reais, aproximadamente o valor do PIB brasileiro). A cifra é 24% superior à de um ano atrás, segundo o índice Bloomberg.\"\n",
        "texto4= \"As fortunas bilionárias de criptomoedas que aumentaram nos últimos dois anos estão desaparecendo após uma liquidação que começou com ações de tecnologia se espalhando pelo dinheiro digital. Bitcoin, a criptomoeda mais popular, e ether, caíram mais de 50% desde seus recordes no final do ano passado. Embora quase todos os detentores de criptomoedas tenham sofrido declínios de riqueza, algumas das maiores e mais visíveis perdas estão concentradas entre os fundadores de exchanges (bolsas), onde os traders (negociadores) compram e vendem moedas digitais.\""
      ],
      "metadata": {
        "id": "UQzgeYkJwhKP"
      },
      "execution_count": 3,
      "outputs": []
    },
    {
      "cell_type": "markdown",
      "source": [
        "## 3. Pré-processamento de acordo com as instruções da OBL"
      ],
      "metadata": {
        "id": "t-UX2g_Zwtzg"
      }
    },
    {
      "cell_type": "markdown",
      "source": [
        "### 3.1 Remoção de pontuações"
      ],
      "metadata": {
        "id": "J8D5y4RxArnF"
      }
    },
    {
      "cell_type": "markdown",
      "source": [
        "A primeira etapa que fazemos para o nosso pré-processamento é a remoção de pontuações, já que elas não nos acrescentam tanta informação. Para isso, vamos definir uma função que faça essa tarefa, utilizando regex, para depois aplicá-la:"
      ],
      "metadata": {
        "id": "xPDWcz_eAv5I"
      }
    },
    {
      "cell_type": "code",
      "source": [
        "def remove_punctuation(text):  \n",
        "  text = re.sub(r'[^\\w\\s]', '', text)\n",
        "  return text"
      ],
      "metadata": {
        "id": "Gynfls54A4_I"
      },
      "execution_count": 4,
      "outputs": []
    },
    {
      "cell_type": "code",
      "source": [
        "texto1 = remove_punctuation(texto1)\n",
        "texto2 = remove_punctuation(texto2)\n",
        "texto3 = remove_punctuation(texto3)\n",
        "texto4 = remove_punctuation(texto4)"
      ],
      "metadata": {
        "id": "ZWF3_yVzBdOX"
      },
      "execution_count": 5,
      "outputs": []
    },
    {
      "cell_type": "code",
      "source": [
        "texto1"
      ],
      "metadata": {
        "colab": {
          "base_uri": "https://localhost:8080/",
          "height": 70
        },
        "id": "6uREUJTXEY76",
        "outputId": "12f9b4c9-d5f1-4fda-c57f-abc27705d051"
      },
      "execution_count": 6,
      "outputs": [
        {
          "output_type": "execute_result",
          "data": {
            "text/plain": [
              "'Evidenciase ao leitor que bilionários ou trilionários comumente têm uma grande capacidade de utilizarem suas trajetórias profissionais para criar legados em diversos setores da economia elevando consequentemente o padrão de vida da humanidade e propiciando oportunidades de enriquecimento lícito para inúmeros outros indivíduos que estão dispostos a também gerar valor para sociedade Bilionários deveriam existir e assim será'"
            ],
            "application/vnd.google.colaboratory.intrinsic+json": {
              "type": "string"
            }
          },
          "metadata": {},
          "execution_count": 6
        }
      ]
    },
    {
      "cell_type": "markdown",
      "source": [
        "### 3.2 Alteração de letras maiúsculas"
      ],
      "metadata": {
        "id": "-wKAFtQGDvw4"
      }
    },
    {
      "cell_type": "markdown",
      "source": [
        "A próxima etapa deixa todos os caracteres em minúsculo, haja vista que o Python diferencia caracteres maiúsculos de minúsculos, mesmo eles no representando a mesma informação semanticamente:"
      ],
      "metadata": {
        "id": "PaOXGUppD0Er"
      }
    },
    {
      "cell_type": "code",
      "source": [
        "texto1 = texto1.lower()\n",
        "texto2 = texto2.lower()\n",
        "texto3 = texto3.lower()\n",
        "texto4 = texto4.lower()"
      ],
      "metadata": {
        "id": "HkdOrh1YDvC6"
      },
      "execution_count": 7,
      "outputs": []
    },
    {
      "cell_type": "code",
      "source": [
        "texto1"
      ],
      "metadata": {
        "colab": {
          "base_uri": "https://localhost:8080/",
          "height": 70
        },
        "id": "H9KWk9N7EIrV",
        "outputId": "e4289e09-aa3c-4838-e2a0-6f212c581db1"
      },
      "execution_count": 8,
      "outputs": [
        {
          "output_type": "execute_result",
          "data": {
            "text/plain": [
              "'evidenciase ao leitor que bilionários ou trilionários comumente têm uma grande capacidade de utilizarem suas trajetórias profissionais para criar legados em diversos setores da economia elevando consequentemente o padrão de vida da humanidade e propiciando oportunidades de enriquecimento lícito para inúmeros outros indivíduos que estão dispostos a também gerar valor para sociedade bilionários deveriam existir e assim será'"
            ],
            "application/vnd.google.colaboratory.intrinsic+json": {
              "type": "string"
            }
          },
          "metadata": {},
          "execution_count": 8
        }
      ]
    },
    {
      "cell_type": "markdown",
      "source": [
        "### 3.2 Tokenização"
      ],
      "metadata": {
        "id": "sq_DcRaXwzC8"
      }
    },
    {
      "cell_type": "markdown",
      "source": [
        "Nosso próximo passo é algo que já fazemos intuitivamente para vermos as palavras, mas devemos reservar uma etapa exclusivamente para a máquina fazer isso: a tokenização! A tokenização nada mais é do que quebrar nossas sentenças em tokens, que pode ser palavras, frases, etc... No entanto, na maioria dos casos, quebramos as sentenças em palavras, que é o que faremos aqui usando a biblioteca NLTK:"
      ],
      "metadata": {
        "id": "f2PfcqyUDXcM"
      }
    },
    {
      "cell_type": "code",
      "source": [
        "texto1 = word_tokenize(texto1)\n",
        "texto2 = word_tokenize(texto2)\n",
        "texto3 = word_tokenize(texto3)\n",
        "texto4 = word_tokenize(texto4)"
      ],
      "metadata": {
        "id": "xLeT3OAqAqhb"
      },
      "execution_count": 9,
      "outputs": []
    },
    {
      "cell_type": "code",
      "source": [
        "texto1"
      ],
      "metadata": {
        "colab": {
          "base_uri": "https://localhost:8080/"
        },
        "id": "XUWn8ZkjErCo",
        "outputId": "6c9849aa-93de-4d26-ea9b-1d97613a3f0f"
      },
      "execution_count": 10,
      "outputs": [
        {
          "output_type": "execute_result",
          "data": {
            "text/plain": [
              "['evidenciase',\n",
              " 'ao',\n",
              " 'leitor',\n",
              " 'que',\n",
              " 'bilionários',\n",
              " 'ou',\n",
              " 'trilionários',\n",
              " 'comumente',\n",
              " 'têm',\n",
              " 'uma',\n",
              " 'grande',\n",
              " 'capacidade',\n",
              " 'de',\n",
              " 'utilizarem',\n",
              " 'suas',\n",
              " 'trajetórias',\n",
              " 'profissionais',\n",
              " 'para',\n",
              " 'criar',\n",
              " 'legados',\n",
              " 'em',\n",
              " 'diversos',\n",
              " 'setores',\n",
              " 'da',\n",
              " 'economia',\n",
              " 'elevando',\n",
              " 'consequentemente',\n",
              " 'o',\n",
              " 'padrão',\n",
              " 'de',\n",
              " 'vida',\n",
              " 'da',\n",
              " 'humanidade',\n",
              " 'e',\n",
              " 'propiciando',\n",
              " 'oportunidades',\n",
              " 'de',\n",
              " 'enriquecimento',\n",
              " 'lícito',\n",
              " 'para',\n",
              " 'inúmeros',\n",
              " 'outros',\n",
              " 'indivíduos',\n",
              " 'que',\n",
              " 'estão',\n",
              " 'dispostos',\n",
              " 'a',\n",
              " 'também',\n",
              " 'gerar',\n",
              " 'valor',\n",
              " 'para',\n",
              " 'sociedade',\n",
              " 'bilionários',\n",
              " 'deveriam',\n",
              " 'existir',\n",
              " 'e',\n",
              " 'assim',\n",
              " 'será']"
            ]
          },
          "metadata": {},
          "execution_count": 10
        }
      ]
    },
    {
      "cell_type": "markdown",
      "source": [
        "### 3.3 Remoção de Stopwords"
      ],
      "metadata": {
        "id": "3YKHwfvnw1Rx"
      }
    },
    {
      "cell_type": "markdown",
      "source": [
        "O próximo passo é remover as stopwords, as palavrinhas que não nos acrescentam tanta informação. Para isso, primeiro, iremos carregar a lista de stopwords do português da biblioteca NLTK, para, posteriormente, retirá-las:"
      ],
      "metadata": {
        "id": "AG_Q28s6Fvd6"
      }
    },
    {
      "cell_type": "code",
      "source": [
        "stopwords = nltk.corpus.stopwords.words('portuguese')"
      ],
      "metadata": {
        "id": "LoOYWcS4F8I6"
      },
      "execution_count": 11,
      "outputs": []
    },
    {
      "cell_type": "code",
      "source": [
        "stopwords"
      ],
      "metadata": {
        "colab": {
          "base_uri": "https://localhost:8080/"
        },
        "id": "BiivHgQiGHvJ",
        "outputId": "3b3d21f6-ca70-4643-bd92-6bb48550f6de"
      },
      "execution_count": 12,
      "outputs": [
        {
          "output_type": "execute_result",
          "data": {
            "text/plain": [
              "['de',\n",
              " 'a',\n",
              " 'o',\n",
              " 'que',\n",
              " 'e',\n",
              " 'é',\n",
              " 'do',\n",
              " 'da',\n",
              " 'em',\n",
              " 'um',\n",
              " 'para',\n",
              " 'com',\n",
              " 'não',\n",
              " 'uma',\n",
              " 'os',\n",
              " 'no',\n",
              " 'se',\n",
              " 'na',\n",
              " 'por',\n",
              " 'mais',\n",
              " 'as',\n",
              " 'dos',\n",
              " 'como',\n",
              " 'mas',\n",
              " 'ao',\n",
              " 'ele',\n",
              " 'das',\n",
              " 'à',\n",
              " 'seu',\n",
              " 'sua',\n",
              " 'ou',\n",
              " 'quando',\n",
              " 'muito',\n",
              " 'nos',\n",
              " 'já',\n",
              " 'eu',\n",
              " 'também',\n",
              " 'só',\n",
              " 'pelo',\n",
              " 'pela',\n",
              " 'até',\n",
              " 'isso',\n",
              " 'ela',\n",
              " 'entre',\n",
              " 'depois',\n",
              " 'sem',\n",
              " 'mesmo',\n",
              " 'aos',\n",
              " 'seus',\n",
              " 'quem',\n",
              " 'nas',\n",
              " 'me',\n",
              " 'esse',\n",
              " 'eles',\n",
              " 'você',\n",
              " 'essa',\n",
              " 'num',\n",
              " 'nem',\n",
              " 'suas',\n",
              " 'meu',\n",
              " 'às',\n",
              " 'minha',\n",
              " 'numa',\n",
              " 'pelos',\n",
              " 'elas',\n",
              " 'qual',\n",
              " 'nós',\n",
              " 'lhe',\n",
              " 'deles',\n",
              " 'essas',\n",
              " 'esses',\n",
              " 'pelas',\n",
              " 'este',\n",
              " 'dele',\n",
              " 'tu',\n",
              " 'te',\n",
              " 'vocês',\n",
              " 'vos',\n",
              " 'lhes',\n",
              " 'meus',\n",
              " 'minhas',\n",
              " 'teu',\n",
              " 'tua',\n",
              " 'teus',\n",
              " 'tuas',\n",
              " 'nosso',\n",
              " 'nossa',\n",
              " 'nossos',\n",
              " 'nossas',\n",
              " 'dela',\n",
              " 'delas',\n",
              " 'esta',\n",
              " 'estes',\n",
              " 'estas',\n",
              " 'aquele',\n",
              " 'aquela',\n",
              " 'aqueles',\n",
              " 'aquelas',\n",
              " 'isto',\n",
              " 'aquilo',\n",
              " 'estou',\n",
              " 'está',\n",
              " 'estamos',\n",
              " 'estão',\n",
              " 'estive',\n",
              " 'esteve',\n",
              " 'estivemos',\n",
              " 'estiveram',\n",
              " 'estava',\n",
              " 'estávamos',\n",
              " 'estavam',\n",
              " 'estivera',\n",
              " 'estivéramos',\n",
              " 'esteja',\n",
              " 'estejamos',\n",
              " 'estejam',\n",
              " 'estivesse',\n",
              " 'estivéssemos',\n",
              " 'estivessem',\n",
              " 'estiver',\n",
              " 'estivermos',\n",
              " 'estiverem',\n",
              " 'hei',\n",
              " 'há',\n",
              " 'havemos',\n",
              " 'hão',\n",
              " 'houve',\n",
              " 'houvemos',\n",
              " 'houveram',\n",
              " 'houvera',\n",
              " 'houvéramos',\n",
              " 'haja',\n",
              " 'hajamos',\n",
              " 'hajam',\n",
              " 'houvesse',\n",
              " 'houvéssemos',\n",
              " 'houvessem',\n",
              " 'houver',\n",
              " 'houvermos',\n",
              " 'houverem',\n",
              " 'houverei',\n",
              " 'houverá',\n",
              " 'houveremos',\n",
              " 'houverão',\n",
              " 'houveria',\n",
              " 'houveríamos',\n",
              " 'houveriam',\n",
              " 'sou',\n",
              " 'somos',\n",
              " 'são',\n",
              " 'era',\n",
              " 'éramos',\n",
              " 'eram',\n",
              " 'fui',\n",
              " 'foi',\n",
              " 'fomos',\n",
              " 'foram',\n",
              " 'fora',\n",
              " 'fôramos',\n",
              " 'seja',\n",
              " 'sejamos',\n",
              " 'sejam',\n",
              " 'fosse',\n",
              " 'fôssemos',\n",
              " 'fossem',\n",
              " 'for',\n",
              " 'formos',\n",
              " 'forem',\n",
              " 'serei',\n",
              " 'será',\n",
              " 'seremos',\n",
              " 'serão',\n",
              " 'seria',\n",
              " 'seríamos',\n",
              " 'seriam',\n",
              " 'tenho',\n",
              " 'tem',\n",
              " 'temos',\n",
              " 'tém',\n",
              " 'tinha',\n",
              " 'tínhamos',\n",
              " 'tinham',\n",
              " 'tive',\n",
              " 'teve',\n",
              " 'tivemos',\n",
              " 'tiveram',\n",
              " 'tivera',\n",
              " 'tivéramos',\n",
              " 'tenha',\n",
              " 'tenhamos',\n",
              " 'tenham',\n",
              " 'tivesse',\n",
              " 'tivéssemos',\n",
              " 'tivessem',\n",
              " 'tiver',\n",
              " 'tivermos',\n",
              " 'tiverem',\n",
              " 'terei',\n",
              " 'terá',\n",
              " 'teremos',\n",
              " 'terão',\n",
              " 'teria',\n",
              " 'teríamos',\n",
              " 'teriam']"
            ]
          },
          "metadata": {},
          "execution_count": 12
        }
      ]
    },
    {
      "cell_type": "code",
      "source": [
        "def remove_stopwords(text):\n",
        "    return [item for item in text if item not in stopwords]"
      ],
      "metadata": {
        "id": "6cKr3DWNGJWr"
      },
      "execution_count": 13,
      "outputs": []
    },
    {
      "cell_type": "code",
      "source": [
        "texto1 = remove_stopwords(texto1)\n",
        "texto2 = remove_stopwords(texto2)\n",
        "texto3 = remove_stopwords(texto3)\n",
        "texto4 = remove_stopwords(texto4)"
      ],
      "metadata": {
        "id": "KVG09Fq8GQNN"
      },
      "execution_count": 14,
      "outputs": []
    },
    {
      "cell_type": "code",
      "source": [
        "texto1"
      ],
      "metadata": {
        "colab": {
          "base_uri": "https://localhost:8080/"
        },
        "id": "xn7hR4_xGTy1",
        "outputId": "24b634b7-283c-47f1-ab64-421a90b5a5c5"
      },
      "execution_count": 15,
      "outputs": [
        {
          "output_type": "execute_result",
          "data": {
            "text/plain": [
              "['evidenciase',\n",
              " 'leitor',\n",
              " 'bilionários',\n",
              " 'trilionários',\n",
              " 'comumente',\n",
              " 'têm',\n",
              " 'grande',\n",
              " 'capacidade',\n",
              " 'utilizarem',\n",
              " 'trajetórias',\n",
              " 'profissionais',\n",
              " 'criar',\n",
              " 'legados',\n",
              " 'diversos',\n",
              " 'setores',\n",
              " 'economia',\n",
              " 'elevando',\n",
              " 'consequentemente',\n",
              " 'padrão',\n",
              " 'vida',\n",
              " 'humanidade',\n",
              " 'propiciando',\n",
              " 'oportunidades',\n",
              " 'enriquecimento',\n",
              " 'lícito',\n",
              " 'inúmeros',\n",
              " 'outros',\n",
              " 'indivíduos',\n",
              " 'dispostos',\n",
              " 'gerar',\n",
              " 'valor',\n",
              " 'sociedade',\n",
              " 'bilionários',\n",
              " 'deveriam',\n",
              " 'existir',\n",
              " 'assim']"
            ]
          },
          "metadata": {},
          "execution_count": 15
        }
      ]
    },
    {
      "cell_type": "markdown",
      "source": [
        "### 3.4 Stemização"
      ],
      "metadata": {
        "id": "1m2jzuTHw7cE"
      }
    },
    {
      "cell_type": "markdown",
      "source": [
        "Agora, iremos mostrar como fazemos a stemização. Para isso, usaremos a biblioteca NLTK, que possui diferentes stemmers, o Porter e o Lancaster; são eles quem fazem a stemização e possuem diferenças entre si. Mostraremos o resultado dos dois para que vocês vejam que, dentro de uma mesma tarefa, utilizando a mesma biblioteca, ainda existem parâmetros que devemos escolher:"
      ],
      "metadata": {
        "id": "q1SXU8EdGgPD"
      }
    },
    {
      "cell_type": "code",
      "source": [
        "ps = PorterStemmer()\n",
        "lancaster = LancasterStemmer()"
      ],
      "metadata": {
        "id": "Ue1CpUNQG_kt"
      },
      "execution_count": 16,
      "outputs": []
    },
    {
      "cell_type": "code",
      "source": [
        "def stemming_ps(text):\n",
        "    return [ps.stem(y) for y in text]"
      ],
      "metadata": {
        "id": "YyeJPaWXHWAq"
      },
      "execution_count": 17,
      "outputs": []
    },
    {
      "cell_type": "code",
      "source": [
        "def stemming_lancaster(text):\n",
        "    return [lancaster.stem(y) for y in text] "
      ],
      "metadata": {
        "id": "hIE-2pQOHYzG"
      },
      "execution_count": 18,
      "outputs": []
    },
    {
      "cell_type": "code",
      "source": [
        "stemming_ps(texto1)"
      ],
      "metadata": {
        "colab": {
          "base_uri": "https://localhost:8080/"
        },
        "id": "3bz877qvHbJH",
        "outputId": "5563a07b-8444-4114-c0b7-fb4634b912cc"
      },
      "execution_count": 19,
      "outputs": [
        {
          "output_type": "execute_result",
          "data": {
            "text/plain": [
              "['evidencias',\n",
              " 'leitor',\n",
              " 'bilionário',\n",
              " 'trilionário',\n",
              " 'comument',\n",
              " 'têm',\n",
              " 'grand',\n",
              " 'capacidad',\n",
              " 'utilizarem',\n",
              " 'trajetória',\n",
              " 'profissionai',\n",
              " 'criar',\n",
              " 'legado',\n",
              " 'diverso',\n",
              " 'setor',\n",
              " 'economia',\n",
              " 'elevando',\n",
              " 'consequentement',\n",
              " 'padrão',\n",
              " 'vida',\n",
              " 'humanidad',\n",
              " 'propiciando',\n",
              " 'oportunidad',\n",
              " 'enriquecimento',\n",
              " 'lícito',\n",
              " 'inúmero',\n",
              " 'outro',\n",
              " 'indivíduo',\n",
              " 'disposto',\n",
              " 'gerar',\n",
              " 'valor',\n",
              " 'sociedad',\n",
              " 'bilionário',\n",
              " 'deveriam',\n",
              " 'existir',\n",
              " 'assim']"
            ]
          },
          "metadata": {},
          "execution_count": 19
        }
      ]
    },
    {
      "cell_type": "code",
      "source": [
        "stemming_lancaster(texto1)"
      ],
      "metadata": {
        "colab": {
          "base_uri": "https://localhost:8080/"
        },
        "id": "t625IKFvHlBE",
        "outputId": "9bc22c16-d645-4873-adfc-ed23b1d6c038"
      },
      "execution_count": 20,
      "outputs": [
        {
          "output_type": "execute_result",
          "data": {
            "text/plain": [
              "['evidencias',\n",
              " 'leit',\n",
              " 'bilionário',\n",
              " 'trilionário',\n",
              " 'comu',\n",
              " 'têm',\n",
              " 'grand',\n",
              " 'capacidad',\n",
              " 'utilizarem',\n",
              " 'trajetória',\n",
              " 'profissiona',\n",
              " 'cri',\n",
              " 'legado',\n",
              " 'diverso',\n",
              " 'set',\n",
              " 'econom',\n",
              " 'elevando',\n",
              " 'consequ',\n",
              " 'padrão',\n",
              " 'vid',\n",
              " 'humanidad',\n",
              " 'propiciando',\n",
              " 'oportunidad',\n",
              " 'enriquecimento',\n",
              " 'lícito',\n",
              " 'inúmero',\n",
              " 'outro',\n",
              " 'indivíduo',\n",
              " 'disposto',\n",
              " 'ger',\n",
              " 'val',\n",
              " 'sociedad',\n",
              " 'bilionário',\n",
              " 'deveriam',\n",
              " 'existir',\n",
              " 'assim']"
            ]
          },
          "metadata": {},
          "execution_count": 20
        }
      ]
    },
    {
      "cell_type": "code",
      "source": [
        "stemming_ps(texto2)"
      ],
      "metadata": {
        "colab": {
          "base_uri": "https://localhost:8080/"
        },
        "id": "DiQNqx62HnMT",
        "outputId": "aaaf9ab0-c841-435c-eece-19c8d4591051"
      },
      "execution_count": 21,
      "outputs": [
        {
          "output_type": "execute_result",
          "data": {
            "text/plain": [
              "['enquanto',\n",
              " 'bilhõ',\n",
              " 'vão',\n",
              " 'miséria',\n",
              " 'punhado',\n",
              " 'família',\n",
              " 'aumentam',\n",
              " 'formidavelment',\n",
              " 'riqueza',\n",
              " 'realidad',\n",
              " 'mundo',\n",
              " 'imperialista',\n",
              " 'segundo',\n",
              " 'índice',\n",
              " 'bloomberg',\n",
              " 'bilionário',\n",
              " 'patrimônio',\n",
              " '500',\n",
              " 'pessoa',\n",
              " 'rica',\n",
              " 'subiu',\n",
              " '20',\n",
              " 'primeira',\n",
              " 'semana',\n",
              " 'abril',\n",
              " 'época',\n",
              " 'crise',\n",
              " 'imperialista',\n",
              " 'aprofunda',\n",
              " 'demonstra',\n",
              " 'riqueza',\n",
              " 'bilionário',\n",
              " 'mundo',\n",
              " 'apresentado',\n",
              " 'aumento',\n",
              " 'durant',\n",
              " 'crise',\n",
              " 'superprodução',\n",
              " 'imperialista',\n",
              " 'número',\n",
              " 'alarmant',\n",
              " '17',\n",
              " 'milhõ',\n",
              " 'americano',\n",
              " 'desempregado',\n",
              " 'período',\n",
              " 'trê',\n",
              " 'semana']"
            ]
          },
          "metadata": {},
          "execution_count": 21
        }
      ]
    },
    {
      "cell_type": "code",
      "source": [
        "stemming_lancaster(texto2)"
      ],
      "metadata": {
        "colab": {
          "base_uri": "https://localhost:8080/"
        },
        "id": "lluHRtmBHqIP",
        "outputId": "b5287691-e16b-4083-8ce1-d8d854e2eed6"
      },
      "execution_count": 22,
      "outputs": [
        {
          "output_type": "execute_result",
          "data": {
            "text/plain": [
              "['enquanto',\n",
              " 'bilhõ',\n",
              " 'vão',\n",
              " 'misér',\n",
              " 'punhado',\n",
              " 'família',\n",
              " 'aumentam',\n",
              " 'formidavel',\n",
              " 'riquez',\n",
              " 'realidad',\n",
              " 'mundo',\n",
              " 'imperialist',\n",
              " 'segundo',\n",
              " 'índice',\n",
              " 'bloomberg',\n",
              " 'bilionário',\n",
              " 'patrimônio',\n",
              " '500',\n",
              " 'pessoa',\n",
              " 'rica',\n",
              " 'subiu',\n",
              " '20',\n",
              " 'primeira',\n",
              " 'semana',\n",
              " 'abril',\n",
              " 'époc',\n",
              " 'cris',\n",
              " 'imperialist',\n",
              " 'aprofund',\n",
              " 'demonstr',\n",
              " 'riquez',\n",
              " 'bilionário',\n",
              " 'mundo',\n",
              " 'apresentado',\n",
              " 'aumento',\n",
              " 'dur',\n",
              " 'cris',\n",
              " 'superprodução',\n",
              " 'imperialist',\n",
              " 'números',\n",
              " 'alarm',\n",
              " '17',\n",
              " 'milhõ',\n",
              " 'americano',\n",
              " 'desempregado',\n",
              " 'período',\n",
              " 'três',\n",
              " 'semana']"
            ]
          },
          "metadata": {},
          "execution_count": 22
        }
      ]
    },
    {
      "cell_type": "code",
      "source": [
        "stemming_ps(texto3)"
      ],
      "metadata": {
        "colab": {
          "base_uri": "https://localhost:8080/"
        },
        "id": "6FyQvJRjHr2c",
        "outputId": "ff86fbed-8b55-4f55-dfd3-afcc46c3949f"
      },
      "execution_count": 23,
      "outputs": [
        {
          "output_type": "execute_result",
          "data": {
            "text/plain": [
              "['coronavíru',\n",
              " 'enxug',\n",
              " 'economia',\n",
              " 'milhõ',\n",
              " 'família',\n",
              " 'rico',\n",
              " 'ano',\n",
              " 'termin',\n",
              " 'lucro',\n",
              " 'imensa',\n",
              " 'maioria',\n",
              " 'apena',\n",
              " '3',\n",
              " '20',\n",
              " 'pessoa',\n",
              " 'rica',\n",
              " 'planeta',\n",
              " 'viram',\n",
              " 'fortuna',\n",
              " 'diminuir',\n",
              " 'nest',\n",
              " 'ano',\n",
              " 'conjunto',\n",
              " 'grupo',\n",
              " 'bilionário',\n",
              " 'chegou',\n",
              " 'final',\n",
              " '2020',\n",
              " 'patrimônio',\n",
              " 'conjunto',\n",
              " 'soma',\n",
              " '177',\n",
              " 'trilhão',\n",
              " 'dólare',\n",
              " '883',\n",
              " 'trilhõ',\n",
              " 'reai',\n",
              " 'aproximadament',\n",
              " 'valor',\n",
              " 'pib',\n",
              " 'brasileiro',\n",
              " 'cifra',\n",
              " '24',\n",
              " 'superior',\n",
              " 'ano',\n",
              " 'atrá',\n",
              " 'segundo',\n",
              " 'índice',\n",
              " 'bloomberg']"
            ]
          },
          "metadata": {},
          "execution_count": 23
        }
      ]
    },
    {
      "cell_type": "code",
      "source": [
        "stemming_lancaster(texto3)"
      ],
      "metadata": {
        "colab": {
          "base_uri": "https://localhost:8080/"
        },
        "id": "VsilY8xSHufR",
        "outputId": "32898312-5e3a-497a-89d0-6a9efee4ae3f"
      },
      "execution_count": 24,
      "outputs": [
        {
          "output_type": "execute_result",
          "data": {
            "text/plain": [
              "['coronavír',\n",
              " 'enxugou',\n",
              " 'economia',\n",
              " 'milhõ',\n",
              " 'família',\n",
              " 'rico',\n",
              " 'ano',\n",
              " 'terminou',\n",
              " 'lucro',\n",
              " 'imens',\n",
              " 'maior',\n",
              " 'apena',\n",
              " '3',\n",
              " '20',\n",
              " 'pessoa',\n",
              " 'rica',\n",
              " 'planet',\n",
              " 'viram',\n",
              " 'fortun',\n",
              " 'diminuir',\n",
              " 'nest',\n",
              " 'ano',\n",
              " 'conjunto',\n",
              " 'grupo',\n",
              " 'bilionário',\n",
              " 'chegou',\n",
              " 'fin',\n",
              " '2020',\n",
              " 'patrimônio',\n",
              " 'conjunto',\n",
              " 'som',\n",
              " '177',\n",
              " 'trilhão',\n",
              " 'dólares',\n",
              " '883',\n",
              " 'trilhõ',\n",
              " 'rea',\n",
              " 'aproximada',\n",
              " 'val',\n",
              " 'pib',\n",
              " 'brasileiro',\n",
              " 'cifr',\n",
              " '24',\n",
              " 'supery',\n",
              " 'ano',\n",
              " 'atrá',\n",
              " 'segundo',\n",
              " 'índice',\n",
              " 'bloomberg']"
            ]
          },
          "metadata": {},
          "execution_count": 24
        }
      ]
    },
    {
      "cell_type": "code",
      "source": [
        "stemming_ps(texto4)"
      ],
      "metadata": {
        "colab": {
          "base_uri": "https://localhost:8080/"
        },
        "id": "XNixfishHwDh",
        "outputId": "860d4dcf-0125-4a4e-dce6-c1b349b3b4fd"
      },
      "execution_count": 25,
      "outputs": [
        {
          "output_type": "execute_result",
          "data": {
            "text/plain": [
              "['fortuna',\n",
              " 'bilionária',\n",
              " 'criptomoeda',\n",
              " 'aumentaram',\n",
              " 'último',\n",
              " 'doi',\n",
              " 'ano',\n",
              " 'desaparecendo',\n",
              " 'apó',\n",
              " 'liquidação',\n",
              " 'começ',\n",
              " 'açõ',\n",
              " 'tecnologia',\n",
              " 'espalhando',\n",
              " 'dinheiro',\n",
              " 'digit',\n",
              " 'bitcoin',\n",
              " 'criptomoeda',\n",
              " 'popular',\n",
              " 'ether',\n",
              " 'caíram',\n",
              " '50',\n",
              " 'desd',\n",
              " 'record',\n",
              " 'final',\n",
              " 'ano',\n",
              " 'passado',\n",
              " 'embora',\n",
              " 'quas',\n",
              " 'todo',\n",
              " 'detentor',\n",
              " 'criptomoeda',\n",
              " 'sofrido',\n",
              " 'declínio',\n",
              " 'riqueza',\n",
              " 'alguma',\n",
              " 'maior',\n",
              " 'visívei',\n",
              " 'perda',\n",
              " 'concentrada',\n",
              " 'fundador',\n",
              " 'exchang',\n",
              " 'bolsa',\n",
              " 'ond',\n",
              " 'trader',\n",
              " 'negociador',\n",
              " 'compram',\n",
              " 'vendem',\n",
              " 'moeda',\n",
              " 'digitai']"
            ]
          },
          "metadata": {},
          "execution_count": 25
        }
      ]
    },
    {
      "cell_type": "code",
      "source": [
        "stemming_lancaster(texto4)"
      ],
      "metadata": {
        "colab": {
          "base_uri": "https://localhost:8080/"
        },
        "id": "CSfFfFaBHzTI",
        "outputId": "205e5bc6-dfc7-486c-e0c8-547aa55ed072"
      },
      "execution_count": 26,
      "outputs": [
        {
          "output_type": "execute_result",
          "data": {
            "text/plain": [
              "['fortuna',\n",
              " 'bilionária',\n",
              " 'criptomoeda',\n",
              " 'aumentaram',\n",
              " 'últimos',\n",
              " 'doi',\n",
              " 'ano',\n",
              " 'desaparecendo',\n",
              " 'apó',\n",
              " 'liquidação',\n",
              " 'começou',\n",
              " 'açõ',\n",
              " 'tecnolog',\n",
              " 'espalhando',\n",
              " 'dinheiro',\n",
              " 'digit',\n",
              " 'bitcoin',\n",
              " 'criptomoed',\n",
              " 'popul',\n",
              " 'eth',\n",
              " 'caíram',\n",
              " '50',\n",
              " 'desd',\n",
              " 'record',\n",
              " 'fin',\n",
              " 'ano',\n",
              " 'passado',\n",
              " 'embor',\n",
              " 'quas',\n",
              " 'todo',\n",
              " 'det',\n",
              " 'criptomoeda',\n",
              " 'sofrido',\n",
              " 'declínio',\n",
              " 'riquez',\n",
              " 'alguma',\n",
              " 'mai',\n",
              " 'visív',\n",
              " 'perda',\n",
              " 'concentrada',\n",
              " 'fundad',\n",
              " 'exchang',\n",
              " 'bolsa',\n",
              " 'ond',\n",
              " 'trad',\n",
              " 'negociad',\n",
              " 'compram',\n",
              " 'vendem',\n",
              " 'moeda',\n",
              " 'digita']"
            ]
          },
          "metadata": {},
          "execution_count": 26
        }
      ]
    },
    {
      "cell_type": "markdown",
      "source": [
        "### 3.5 Lemmatização"
      ],
      "metadata": {
        "id": "PQ7_FCLZw9MR"
      }
    },
    {
      "cell_type": "markdown",
      "source": [
        "Por fim, faremos a lemmatização utilizando a biblioteca Spacy. Para isso, primeiramente, carregaremos o modelo de língua do português que baixamos:"
      ],
      "metadata": {
        "id": "hzj-9nObH5Sq"
      }
    },
    {
      "cell_type": "code",
      "source": [
        "nlp = spacy.load('pt_core_news_sm')"
      ],
      "metadata": {
        "id": "NM0dKtnxIPaM"
      },
      "execution_count": 27,
      "outputs": []
    },
    {
      "cell_type": "markdown",
      "source": [
        "Como o Spacy funciona de uma forma um pouco diferente, temos que carregar os nosso textos dentro do modelo de língua que definimos:"
      ],
      "metadata": {
        "id": "orOGdebGIiPm"
      }
    },
    {
      "cell_type": "code",
      "source": [
        "doc1= nlp(' '.join(texto1))\n",
        "doc2= nlp(' '.join(texto2))\n",
        "doc3= nlp(' '.join(texto3))\n",
        "doc4= nlp(' '.join(texto4))"
      ],
      "metadata": {
        "id": "7BiiqAeDIYJ4"
      },
      "execution_count": 28,
      "outputs": []
    },
    {
      "cell_type": "markdown",
      "source": [
        "Por fim, podemos ver os lemmas das palavras, junto às classes gramaticais :)"
      ],
      "metadata": {
        "id": "iuA3vzSXKa2n"
      }
    },
    {
      "cell_type": "code",
      "source": [
        " [(token.lemma_,token.pos_) for token in doc1]"
      ],
      "metadata": {
        "colab": {
          "base_uri": "https://localhost:8080/"
        },
        "id": "NIorFC5gJiun",
        "outputId": "58d7cd62-905c-4344-a707-21fb75c054da"
      },
      "execution_count": 29,
      "outputs": [
        {
          "output_type": "execute_result",
          "data": {
            "text/plain": [
              "[('evidenciase', 'NOUN'),\n",
              " ('leitor', 'PROPN'),\n",
              " ('bilionário', 'NOUN'),\n",
              " ('trilionários', 'ADJ'),\n",
              " ('comumente', 'ADV'),\n",
              " ('ter', 'VERB'),\n",
              " ('grande', 'ADJ'),\n",
              " ('capacidade', 'NOUN'),\n",
              " ('utilizar', 'VERB'),\n",
              " ('trajetória', 'NOUN'),\n",
              " ('profissional', 'ADJ'),\n",
              " ('criar', 'VERB'),\n",
              " ('legar', 'NOUN'),\n",
              " ('diverso', 'ADJ'),\n",
              " ('setores', 'ADJ'),\n",
              " ('economia', 'PROPN'),\n",
              " ('elevar', 'VERB'),\n",
              " ('consequentemente', 'ADV'),\n",
              " ('padrão', 'NOUN'),\n",
              " ('vidar', 'PROPN'),\n",
              " ('humanidade', 'PROPN'),\n",
              " ('propiciar', 'VERB'),\n",
              " ('oportunidade', 'NOUN'),\n",
              " ('enriquecimento', 'NOUN'),\n",
              " ('lícito', 'VERB'),\n",
              " ('inúmero', 'ADJ'),\n",
              " ('outro', 'DET'),\n",
              " ('indivíduo', 'PROPN'),\n",
              " ('disposto', 'VERB'),\n",
              " ('gerar', 'VERB'),\n",
              " ('valor', 'NOUN'),\n",
              " ('sociedade', 'PROPN'),\n",
              " ('bilionário', 'ADJ'),\n",
              " ('dever', 'AUX'),\n",
              " ('existir', 'VERB'),\n",
              " ('assim', 'ADV')]"
            ]
          },
          "metadata": {},
          "execution_count": 29
        }
      ]
    },
    {
      "cell_type": "code",
      "source": [
        " [(token.lemma_,token.pos_) for token in doc2]"
      ],
      "metadata": {
        "colab": {
          "base_uri": "https://localhost:8080/"
        },
        "id": "TbfVIfcqKiRc",
        "outputId": "62243c44-72fa-4798-a401-7d4cbf24774d"
      },
      "execution_count": 30,
      "outputs": [
        {
          "output_type": "execute_result",
          "data": {
            "text/plain": [
              "[('enquanto', 'ADV'),\n",
              " ('bilião', 'PROPN'),\n",
              " ('ir', 'VERB'),\n",
              " ('miséria', 'NOUN'),\n",
              " ('punhado', 'VERB'),\n",
              " ('família', 'NOUN'),\n",
              " ('aumentar', 'VERB'),\n",
              " ('formidavelmente', 'ADV'),\n",
              " ('riqueza', 'NOUN'),\n",
              " ('realidade', 'ADJ'),\n",
              " ('mundo', 'NOUN'),\n",
              " ('imperialista', 'ADJ'),\n",
              " ('segundar', 'ADP'),\n",
              " ('índice', 'NOUN'),\n",
              " ('bloomberg', 'PROPN'),\n",
              " ('bilionário', 'PROPN'),\n",
              " ('patrimônio', 'PROPN'),\n",
              " ('500', 'NUM'),\n",
              " ('pessoa', 'NOUN'),\n",
              " ('rico', 'ADJ'),\n",
              " ('subir', 'VERB'),\n",
              " ('20', 'NUM'),\n",
              " ('primeiro', 'ADJ'),\n",
              " ('semana', 'NOUN'),\n",
              " ('abril', 'PROPN'),\n",
              " ('época', 'PROPN'),\n",
              " ('crise', 'PROPN'),\n",
              " ('imperialista', 'ADJ'),\n",
              " ('aprofundar', 'ADJ'),\n",
              " ('demonstrar', 'VERB'),\n",
              " ('riqueza', 'NOUN'),\n",
              " ('bilionário', 'NOUN'),\n",
              " ('mundo', 'VERB'),\n",
              " ('apresentar', 'VERB'),\n",
              " ('aumentar', 'NOUN'),\n",
              " ('durante', 'ADP'),\n",
              " ('crise', 'NOUN'),\n",
              " ('superprodução', 'NOUN'),\n",
              " ('imperialista', 'ADJ'),\n",
              " ('número', 'NOUN'),\n",
              " ('alarmante', 'ADJ'),\n",
              " ('17', 'NUM'),\n",
              " ('milhão', 'SYM'),\n",
              " ('americano', 'ADJ'),\n",
              " ('desempregar', 'VERB'),\n",
              " ('período', 'NOUN'),\n",
              " ('três', 'NUM'),\n",
              " ('semana', 'NOUN')]"
            ]
          },
          "metadata": {},
          "execution_count": 30
        }
      ]
    },
    {
      "cell_type": "code",
      "source": [
        " [(token.lemma_,token.pos_) for token in doc3]"
      ],
      "metadata": {
        "colab": {
          "base_uri": "https://localhost:8080/"
        },
        "id": "7dcKeQIIKj0v",
        "outputId": "360a83f3-f414-4f17-ab53-a16923da55ce"
      },
      "execution_count": 31,
      "outputs": [
        {
          "output_type": "execute_result",
          "data": {
            "text/plain": [
              "[('coronavírus', 'PROPN'),\n",
              " ('enxugar', 'VERB'),\n",
              " ('economia', 'NOUN'),\n",
              " ('milhão', 'NOUN'),\n",
              " ('família', 'ADJ'),\n",
              " ('rico', 'ADJ'),\n",
              " ('ano', 'NOUN'),\n",
              " ('terminar', 'VERB'),\n",
              " ('lucro', 'NOUN'),\n",
              " ('imenso', 'VERB'),\n",
              " ('maioria', 'NOUN'),\n",
              " ('apenas', 'ADV'),\n",
              " ('3', 'NUM'),\n",
              " ('20', 'NUM'),\n",
              " ('pessoa', 'NOUN'),\n",
              " ('rico', 'ADJ'),\n",
              " ('planeta', 'ADJ'),\n",
              " ('virar', 'VERB'),\n",
              " ('fortuna', 'NOUN'),\n",
              " ('diminuir', 'VERB'),\n",
              " ('n', 'ADP'),\n",
              " ('este', 'DET'),\n",
              " ('ano', 'NOUN'),\n",
              " ('conjuntar', 'ADJ'),\n",
              " ('grupar', 'PROPN'),\n",
              " ('bilionário', 'PROPN'),\n",
              " ('chegar', 'VERB'),\n",
              " ('final', 'NOUN'),\n",
              " ('2020', 'DET'),\n",
              " ('patrimônio', 'PROPN'),\n",
              " ('conjuntar', 'ADJ'),\n",
              " ('somar', 'VERB'),\n",
              " ('177', 'NUM'),\n",
              " ('trilhão', 'NUM'),\n",
              " ('dólar', 'NOUN'),\n",
              " ('883', 'NUM'),\n",
              " ('trilhões', 'NOUN'),\n",
              " ('real', 'ADJ'),\n",
              " ('aproximadamente', 'ADV'),\n",
              " ('valor', 'NOUN'),\n",
              " ('pib', 'PROPN'),\n",
              " ('brasileiro', 'ADJ'),\n",
              " ('cifrar', 'ADJ'),\n",
              " ('24', 'NUM'),\n",
              " ('superior', 'ADJ'),\n",
              " ('ano', 'NOUN'),\n",
              " ('atrás', 'ADV'),\n",
              " ('segundar', 'ADJ'),\n",
              " ('índice', 'PROPN'),\n",
              " ('bloomberg', 'PROPN')]"
            ]
          },
          "metadata": {},
          "execution_count": 31
        }
      ]
    },
    {
      "cell_type": "code",
      "source": [
        " [(token.lemma_,token.pos_) for token in doc4]"
      ],
      "metadata": {
        "colab": {
          "base_uri": "https://localhost:8080/"
        },
        "id": "VRW7oib7KlXa",
        "outputId": "23124e7d-a372-4bfa-f4a6-39d679dcc766"
      },
      "execution_count": 32,
      "outputs": [
        {
          "output_type": "execute_result",
          "data": {
            "text/plain": [
              "[('fortuna', 'NOUN'),\n",
              " ('bilionário', 'NOUN'),\n",
              " ('criptomoedas', 'VERB'),\n",
              " ('aumentar', 'VERB'),\n",
              " ('último', 'ADJ'),\n",
              " ('dois', 'NUM'),\n",
              " ('ano', 'SYM'),\n",
              " ('desaparecer', 'VERB'),\n",
              " ('após', 'ADP'),\n",
              " ('liquidação', 'NOUN'),\n",
              " ('começar', 'VERB'),\n",
              " ('ações', 'NOUN'),\n",
              " ('tecnologia', 'NOUN'),\n",
              " ('espalhar', 'VERB'),\n",
              " ('dinheiro', 'NOUN'),\n",
              " ('digital', 'ADJ'),\n",
              " ('bitcoin', 'PROPN'),\n",
              " ('criptomoeda', 'PROPN'),\n",
              " ('popular', 'ADJ'),\n",
              " ('ether', 'PROPN'),\n",
              " ('cair', 'VERB'),\n",
              " ('50', 'NUM'),\n",
              " ('desde', 'ADP'),\n",
              " ('recorde', 'NOUN'),\n",
              " ('final', 'ADJ'),\n",
              " ('ano', 'NOUN'),\n",
              " ('passar', 'VERB'),\n",
              " ('embora', 'SCONJ'),\n",
              " ('quase', 'ADV'),\n",
              " ('todo', 'DET'),\n",
              " ('detentor', 'PROPN'),\n",
              " ('criptomoedas', 'VERB'),\n",
              " ('sofrer', 'VERB'),\n",
              " ('declínio', 'ADJ'),\n",
              " ('riqueza', 'VERB'),\n",
              " ('algum', 'DET'),\n",
              " ('maior', 'ADJ'),\n",
              " ('visível', 'ADJ'),\n",
              " ('perda', 'VERB'),\n",
              " ('concentrar', 'VERB'),\n",
              " ('fundador', 'NOUN'),\n",
              " ('exchanges', 'PROPN'),\n",
              " ('bolsar', 'PROPN'),\n",
              " ('onde', 'ADV'),\n",
              " ('traders', 'PROPN'),\n",
              " ('negociador', 'ADJ'),\n",
              " ('comprar', 'VERB'),\n",
              " ('vender', 'VERB'),\n",
              " ('moeda', 'NOUN'),\n",
              " ('digitar', 'ADJ')]"
            ]
          },
          "metadata": {},
          "execution_count": 32
        }
      ]
    },
    {
      "cell_type": "markdown",
      "source": [
        "Vale ressaltar que as classes gramaticais são retiradas das [Universal Dependencies](https://universaldependencies.org/u/pos/index.html), então recomendo que deem uma olhada no site para entenderem as abreviações. \n",
        "\n",
        "E era esse o nosso pré-processamento por hoje, valeussss! \n"
      ],
      "metadata": {
        "id": "CnQOx9R4Km19"
      }
    }
  ]
}